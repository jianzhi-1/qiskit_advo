{
 "cells": [
  {
   "cell_type": "markdown",
   "metadata": {},
   "source": [
    "# BassaredHoyerMoscaTrapp Algorithm"
   ]
  },
  {
   "cell_type": "markdown",
   "metadata": {},
   "source": [
    "### Introduction\n",
    "Grover's Algorithm requires the knowledge of the number of marked elements (the number of elements *x* such that *f(x) = 1*), so that the Diffusion Operator could be ran the optimal number of times."
   ]
  },
  {
   "cell_type": "markdown",
   "metadata": {},
   "source": [
    "What happens if the number of marked elements is not known? \n",
    "**It is still possible to achieve a quadratic speedup.**"
   ]
  },
  {
   "cell_type": "markdown",
   "metadata": {},
   "source": [
    "In this notebook, the function *QSearch()* is implemented. At no line in the function *QSearch()* does the program know the number of marked elements. In the implementation, only in *GroverOracle()* (an oracle which *QSearch()* calls) does the program know the number of marked elements."
   ]
  },
  {
   "cell_type": "markdown",
   "metadata": {},
   "source": [
    "In the end, what should be observed is that the number of calls to the *GroverOracle()* is in the magnitude of $\\sqrt{N}$."
   ]
  },
  {
   "cell_type": "code",
   "execution_count": 148,
   "metadata": {},
   "outputs": [],
   "source": [
    "import networkx as nx\n",
    "import matplotlib.pyplot as plt\n",
    "import numpy as np\n",
    "from math import pi\n",
    "import math\n",
    "import random\n",
    "%matplotlib inline\n",
    "%config InlineBackend.figure_format = 'svg'\n",
    "\n",
    "from qiskit import IBMQ, Aer, BasicAer, execute, QuantumCircuit, ClassicalRegister, QuantumRegister, execute\n",
    "from qiskit.providers.ibmq import least_busy\n",
    "from qiskit.quantum_info import state_fidelity\n",
    "from qiskit.tools.visualization import circuit_drawer\n",
    "from qiskit.circuit.library.generalized_gates.mcmt import MCMT\n",
    "from qiskit.circuit.library.standard_gates.x import XGate, HGate\n",
    "from qiskit.circuit.library import ZGate\n",
    "from qiskit.visualization import plot_histogram"
   ]
  },
  {
   "cell_type": "markdown",
   "metadata": {},
   "source": [
    "### Defining Variables and Functions\n",
    "Firstly, we define:\n",
    "1. *n* : the number of qubits\n",
    "2. *good_set* : the set of all marked elements\n",
    "3. *f(x)* : returns *True* if *x* is in *good_set*, *False* otherwise\n",
    "4. *convert_to_int(s)* : converts a string *s* to integer, treating *s[0]* as the least significant bit"
   ]
  },
  {
   "cell_type": "code",
   "execution_count": 146,
   "metadata": {},
   "outputs": [],
   "source": [
    "# Using n = 10 means that at the end, the number of calls to oracle should be \n",
    "# in the order of ~33\n",
    "\n",
    "n = 10\n",
    "good_set = [2, 22, 42]\n",
    "simulator = Aer.get_backend('qasm_simulator')"
   ]
  },
  {
   "cell_type": "code",
   "execution_count": 147,
   "metadata": {},
   "outputs": [],
   "source": [
    "def f(x):\n",
    "    return (x in good_set)\n",
    "\n",
    "\n",
    "def convert_to_int(s):\n",
    "    ans = 0\n",
    "    for i in range(len(s)):\n",
    "        ans = ans + (2**i)*int(s[len(s) - i - 1])\n",
    "    return ans"
   ]
  },
  {
   "cell_type": "markdown",
   "metadata": {},
   "source": [
    "### Using Some Oracles\n",
    "The following oracles (*AndOracle*, *ControlledOnIntOracle*, *DiffusionOperator*, *GroverOracle*) are taken from *Oracles.py*. Please refer to *Oracles.py* if you find these oracles unfamiliar."
   ]
  },
  {
   "cell_type": "code",
   "execution_count": 125,
   "metadata": {},
   "outputs": [],
   "source": [
    "def AndOracle(given_circuit, nn, target_qubit):\n",
    "    given_circuit.barrier()\n",
    "    controlled_xgate = XGate().control(nn)\n",
    "    curlist = list(range(0, nn))\n",
    "    curlist.append(target_qubit)\n",
    "    given_circuit.append(controlled_xgate, curlist)\n",
    "    given_circuit.barrier()\n",
    "\n",
    "\n",
    "def ControlledOnIntOracle(given_circuit, nn, target_qubit, x, reverse=False):\n",
    "    \n",
    "    if (x != 0 and nn < int(math.floor(math.log2(x) + 1))):\n",
    "        print(\"Not enough qubits to do ControlledOnIntOracle\\n\")\n",
    "        return\n",
    "    \n",
    "    given_circuit.barrier()\n",
    "    xx = x\n",
    "    counter = 0\n",
    "    for i in range(nn):\n",
    "        if (xx%2 == 0):\n",
    "            given_circuit.x(counter)\n",
    "        xx = (xx - (xx%2))/2\n",
    "        counter = counter + 1\n",
    "    AndOracle(given_circuit, nn, target_qubit)\n",
    "    \n",
    "    xx = x\n",
    "    counter = 0\n",
    "    for i in range(nn):\n",
    "        if (xx%2 == 0):\n",
    "            given_circuit.x(counter)\n",
    "        xx = (xx - (xx%2))/2\n",
    "        counter = counter + 1\n",
    "    given_circuit.barrier()\n",
    "\n",
    "    \n",
    "def DiffusionOperator(given_circuit, nn, name = \"DiffusionOperator\"):\n",
    "    \n",
    "    given_circuit.h(range(nn))\n",
    "    given_circuit.x(range(nn))\n",
    "    controlled_gate = ZGate().control(nn - 1)\n",
    "    given_circuit.append(controlled_gate, list(range(0, nn)))\n",
    "    given_circuit.x(range(nn))\n",
    "    given_circuit.h(range(nn))\n",
    "\n",
    "    \n",
    "def GroverOracle(given_circuit, nn, name = 'GroverOracle'):\n",
    "    for i in good_set:\n",
    "        ControlledOnIntOracle(given_circuit, nn, nn, i)"
   ]
  },
  {
   "cell_type": "markdown",
   "metadata": {},
   "source": [
    "### QSearch PseudoCode\n",
    "1. Set *l = 0* and let *c* be any constant such that *1 < c < 2*.\n",
    "2. Set *l = l + 1* and set *M = $\\lceil c^l \\rceil$*.\n",
    "3. Apply *H* on the initial state *|0>*.\n",
    "4. Pick random integer *j* between *1* and *M*.\n",
    "5. Apply *GroverOracle()* and *DiffusionOperator()* *j* times to the register.\n",
    "6. Measure. If the outcome *|z>* is marked, then output *z*. Otherwise, repeat from Step 2."
   ]
  },
  {
   "cell_type": "code",
   "execution_count": 155,
   "metadata": {},
   "outputs": [],
   "source": [
    "# nn = number of qubits\n",
    "# c = random constant between 1 and 2 exclusive\n",
    "\n",
    "def QSearch(nn, c=1.5):\n",
    "    l = 0\n",
    "    print(\"The value of c is: \" + str(c) + \".\")\n",
    "    \n",
    "    done = False\n",
    "    total = 0\n",
    "    while (done == False):\n",
    "        l = l + 1\n",
    "        m = math.ceil(c**l)\n",
    "        print(\"l = \" + str(l) + \": \")\n",
    "        print(\"m = \" + str(m) + \".\")\n",
    "        \n",
    "        qc = QuantumCircuit(nn + 1, nn)\n",
    "        qc.h(range(nn))\n",
    "        j = random.randint(1, m)\n",
    "        \n",
    "        for i in range(j):\n",
    "            total = total + 1\n",
    "            GroverOracle(qc, nn)\n",
    "            DiffusionOperator(qc, nn)\n",
    "        \n",
    "        qc.measure(range(nn), range(nn))\n",
    "        \n",
    "        #Gets a single measurement\n",
    "        counts = execute(qc, simulator, shots = 1).result().get_counts(qc)\n",
    "        \n",
    "        y = convert_to_int(list(counts.keys())[0])\n",
    "        print(\"Measured and currently trying y = \" + str(y) + \".\")\n",
    "        \n",
    "        if (f(y) == True):\n",
    "            print(\"SUCCESS\")\n",
    "            done = True\n",
    "            return (y, counts, total)\n",
    "        \n",
    "        del qc"
   ]
  },
  {
   "cell_type": "code",
   "execution_count": 156,
   "metadata": {},
   "outputs": [
    {
     "name": "stdout",
     "output_type": "stream",
     "text": [
      "The value of c is: 1.9242719874382423.\n",
      "l = 1: \n",
      "m = 2.\n",
      "Measured and currently trying y = 796.\n",
      "l = 2: \n",
      "m = 4.\n",
      "Measured and currently trying y = 636.\n",
      "l = 3: \n",
      "m = 8.\n",
      "Measured and currently trying y = 772.\n",
      "l = 4: \n",
      "m = 14.\n",
      "Measured and currently trying y = 381.\n",
      "l = 5: \n",
      "m = 27.\n",
      "Measured and currently trying y = 2.\n",
      "SUCCESS\n",
      "\n",
      "\n",
      "One correct output is: 2.\n",
      "QSearch called oracle a total of 31 times.\n"
     ]
    }
   ],
   "source": [
    "(value, cc, total_counts) = QSearch(n, 1 + random.random())\n",
    "print(\"\\n\")\n",
    "print(\"One correct output is: \" + str(value) + \".\")\n",
    "print(\"QSearch called oracle a total of \" + str(total_counts) + \" times.\")"
   ]
  },
  {
   "cell_type": "markdown",
   "metadata": {},
   "source": [
    "### Final Note\n",
    "A key point to note is that, inside the function *QSearch()*, there is no place to get information on how many marked elements there are. The program can only make calls to *GroverOracle()*, which has access to *good_set*.\n",
    "\n",
    "The number of calls made to the oracle is in the order of $\\sqrt{2^n}$."
   ]
  },
  {
   "cell_type": "markdown",
   "metadata": {},
   "source": [
    "### References\n",
    "1. Brassard, Hoyer, Mosca, Trapp (2000): https://arxiv.org/abs/quant-ph/0005055"
   ]
  }
 ],
 "metadata": {
  "kernelspec": {
   "display_name": "Python 3",
   "language": "python",
   "name": "python3"
  },
  "language_info": {
   "codemirror_mode": {
    "name": "ipython",
    "version": 3
   },
   "file_extension": ".py",
   "mimetype": "text/x-python",
   "name": "python",
   "nbconvert_exporter": "python",
   "pygments_lexer": "ipython3",
   "version": "3.7.3"
  }
 },
 "nbformat": 4,
 "nbformat_minor": 4
}
