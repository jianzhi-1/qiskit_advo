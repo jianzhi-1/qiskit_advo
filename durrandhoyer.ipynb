{
 "cells": [
  {
   "cell_type": "markdown",
   "metadata": {},
   "source": [
    "# Durr & Hoyer's Algorithm\n",
    "### Minima/Maxima Finding Algorithm"
   ]
  },
  {
   "cell_type": "markdown",
   "metadata": {},
   "source": [
    "### Introduction\n",
    "Suppose you have an array of size *N* and an oracle such that, given *i*, it will gives you a superposition of all indices *j* such that *arr[j] < arr[i]*. Durr & Hoyer's algorithm can achieve this with $O(\\sqrt{N}log(N))$.\n",
    "\n",
    "In this notebook, we are not concerned about the implementation of such an oracle. The oracle would be built using *ControlledOnIntOracle()* from *Oracles.ipynb* notebook. The Durr & Hoyer's Algorithm is implemented at the end of the notebook."
   ]
  },
  {
   "cell_type": "markdown",
   "metadata": {},
   "source": [
    "### Importing Libraries"
   ]
  },
  {
   "cell_type": "code",
   "execution_count": 2,
   "metadata": {},
   "outputs": [],
   "source": [
    "import matplotlib.pyplot as plt\n",
    "import numpy as np\n",
    "from math import pi\n",
    "import math\n",
    "import random\n",
    "%matplotlib inline\n",
    "%config InlineBackend.figure_format = 'svg'\n",
    "\n",
    "from qiskit import IBMQ, Aer, BasicAer, execute\n",
    "from qiskit.providers.ibmq import least_busy\n",
    "from qiskit import QuantumCircuit, ClassicalRegister, QuantumRegister, execute\n",
    "from qiskit.quantum_info import state_fidelity\n",
    "from qiskit.tools.visualization import circuit_drawer\n",
    "from qiskit.circuit.library.generalized_gates.mcmt import MCMT\n",
    "from qiskit.circuit.library.standard_gates.x import XGate, HGate\n",
    "from qiskit.circuit.library import ZGate\n",
    "from qiskit.visualization import plot_histogram"
   ]
  },
  {
   "cell_type": "markdown",
   "metadata": {},
   "source": [
    "### Defining Variables\n",
    "The following array will be used throughout the notebook.\n",
    "The next cell contains the function *f* which lowers the time complexity of the oracle."
   ]
  },
  {
   "cell_type": "code",
   "execution_count": 15,
   "metadata": {},
   "outputs": [
    {
     "name": "stdout",
     "output_type": "stream",
     "text": [
      "The number of elements in the array is 24.\n"
     ]
    }
   ],
   "source": [
    "arr = [22, 42, 2, 7, 74, 11, 86, 10, 3, 6, 93, 90, 23, 89, 92, 203, 84, 33, 32, 31, 40, 49, 84, 92]\n",
    "n = len(arr)\n",
    "print(\"The number of elements in the array is \" + str(n) + \".\")\n",
    "simulator = Aer.get_backend('qasm_simulator')"
   ]
  },
  {
   "cell_type": "code",
   "execution_count": 19,
   "metadata": {},
   "outputs": [],
   "source": [
    "pairedarr = []\n",
    "sortedind = []\n",
    "for i in range(len(arr)):\n",
    "    pairedarr.append((arr[i], i))\n",
    "pairedarr.sort()\n",
    "for i in range(len(pairedarr)):\n",
    "    sortedind.append(pairedarr[i][1])\n",
    "\n",
    "def f(x):\n",
    "    for i in range(len(sortedind)):\n",
    "        if (sortedind[i] == x):\n",
    "            return sortedind[:i]\n",
    "        \n",
    "def converttoint(s):\n",
    "    ans = 0\n",
    "    for i in range(len(s)):\n",
    "        ans = ans + (2**i)*int(s[len(s) - i - 1])\n",
    "    return ans"
   ]
  },
  {
   "cell_type": "markdown",
   "metadata": {},
   "source": [
    "### Template Oracles\n",
    "The following oracles (*AndOracle()*, *ControlledOnIntOracle()*, *GroverOracle()*) from *Oracles.ipynb* are useful in the implementation of the *MinimumOracle()*."
   ]
  },
  {
   "cell_type": "code",
   "execution_count": 17,
   "metadata": {},
   "outputs": [],
   "source": [
    "def AndOracle(given_circuit, nn, target_qubit):\n",
    "    given_circuit.barrier()\n",
    "    controlled_xgate = XGate().control(nn)\n",
    "    curlist = list(range(0, nn))\n",
    "    curlist.append(target_qubit)\n",
    "    given_circuit.append(controlled_xgate, curlist)\n",
    "    given_circuit.barrier()\n",
    "\n",
    "\n",
    "def ControlledOnIntOracle(given_circuit, nn, target_qubit, x, reverse=False):\n",
    "    \n",
    "    if (x != 0 and nn < int(math.floor(math.log2(x) + 1))):\n",
    "        print(\"Not enough qubits to do ControlledOnIntOracle\\n\")\n",
    "        return\n",
    "    \n",
    "    given_circuit.barrier()\n",
    "    xx = x\n",
    "    counter = 0\n",
    "    for i in range(nn):\n",
    "        if (xx%2 == 0):\n",
    "            given_circuit.x(counter)\n",
    "        xx = (xx - (xx%2))/2\n",
    "        counter = counter + 1\n",
    "    AndOracle(given_circuit, nn, target_qubit)\n",
    "    \n",
    "    xx = x\n",
    "    counter = 0\n",
    "    for i in range(nn):\n",
    "        if (xx%2 == 0):\n",
    "            given_circuit.x(counter)\n",
    "        xx = (xx - (xx%2))/2\n",
    "        counter = counter + 1\n",
    "    given_circuit.barrier()\n",
    "\n",
    "    \n",
    "def DiffusionOperator(given_circuit, nn, name = \"DiffusionOperator\"):\n",
    "    given_circuit.h(range(nn))\n",
    "    given_circuit.x(range(nn))\n",
    "    controlled_gate = ZGate().control(nn - 1)\n",
    "    given_circuit.append(controlled_gate, list(range(0, nn)))\n",
    "    given_circuit.x(range(nn))\n",
    "    given_circuit.h(range(nn))\n",
    "\n",
    "    \n",
    "def GroverOracle(given_circuit, nn, indices_to_mark, name = 'GroverOracle'):\n",
    "    for i in indices_to_mark:\n",
    "        ControlledOnIntOracle(given_circuit, nn, nn, i)\n"
   ]
  },
  {
   "cell_type": "markdown",
   "metadata": {},
   "source": [
    "## Minimum Oracle"
   ]
  },
  {
   "cell_type": "markdown",
   "metadata": {},
   "source": [
    "The *MinimumOracle()* is implemented such that all the 'good' indices are marked by *GroverOracle()*. In the oracle, the amplitude amplification process is also done. This oracle now returns a superposition of all indices *j* such that *arr[j] < arr[i]*.\n",
    "\n",
    "Although we are not investigating the time complexity of the oracle, it is worth noting that classically, the cost of querying the oracle is $O(N)$, because all indices which satisfies *arr[j] < arr[i]* must be returned to the oracle."
   ]
  },
  {
   "cell_type": "code",
   "execution_count": 25,
   "metadata": {},
   "outputs": [],
   "source": [
    "def MinimumOracle(given_circuit, nn, target_qubit, x, reverse=False, name = \"MinimumOracle\"):\n",
    "    print(\"Called Minimum Oracle with index \" + str(x) + \". arr[x] = \" + str(arr[x]) + \".\")\n",
    "    \n",
    "    cur_array = f(x)\n",
    "    num = len(f(x))\n",
    "    print(\"Oracle says in a deep and mysterious voice: \" + str(cur_array) + \".\")\n",
    "    \n",
    "    if (num == 0):\n",
    "        return False\n",
    "    r = int(np.floor(np.pi/4*np.sqrt(2**nn/num)))\n",
    "    for _ in range(r):\n",
    "        GroverOracle(given_circuit, nn, cur_array)\n",
    "        DiffusionOperator(given_circuit, nn)\n",
    "    return True"
   ]
  },
  {
   "cell_type": "code",
   "execution_count": 36,
   "metadata": {},
   "outputs": [],
   "source": [
    "# nn = number of qubits, excluding the ancilla qubit\n",
    "# x = number of items in the array\n",
    "def DurrHoyerAlgorithm(nn, x):\n",
    "    \n",
    "    callstooracle = 0\n",
    "    \n",
    "    # Step 1: Generates a random index\n",
    "    y = random.randint(0, x - 1)\n",
    "    done = True\n",
    "    \n",
    "    print(\"Initial Guess: \" + str(y) + \".\")\n",
    "    \n",
    "    while (done == True):\n",
    "        durrhoyer_q = QuantumRegister(nn + 1)\n",
    "        durrhoyer_c = ClassicalRegister(nn)\n",
    "        durrhoyer_qc = QuantumCircuit(durrhoyer_q, durrhoyer_c, name = \"DurrHoyer Circuit\")\n",
    "\n",
    "        # Step 2: Apply Hadamard gate to a superposition of all possible states\n",
    "        durrhoyer_qc.h(range(nn))\n",
    "\n",
    "        # Step 3: Call the Minimum Oracle\n",
    "        done = MinimumOracle(durrhoyer_qc, nn, nn, y)\n",
    "        callstooracle = callstooracle + 1\n",
    "        \n",
    "        if (done == False):\n",
    "            counts = execute(durrhoyer_qc, simulator, shots = 200).result().get_counts(durrhoyer_qc)\n",
    "            return (y, callstooracle, counts)\n",
    "        \n",
    "        # Step 4: Measure and get a value with the most occurrence\n",
    "        durrhoyer_qc.measure(range(nn), range(nn))\n",
    "        counts = execute(durrhoyer_qc, simulator, shots = 200).result().get_counts(durrhoyer_qc)\n",
    "        sortedcounts = {k: v for k, v in sorted(counts.items(), key=lambda item: item[1])}\n",
    "\n",
    "        curlist = list(sortedcounts.keys())\n",
    "        yprime = 0\n",
    "        for i in range(len(curlist)):\n",
    "            if (converttoint(curlist[-1 - i]) >= x):\n",
    "                continue\n",
    "            yprime = converttoint(curlist[-1-i])\n",
    "            break\n",
    "    \n",
    "        print(\"Next Guess: \" + str(yprime) + \".\\n\")\n",
    "\n",
    "        if (arr[yprime] < arr[y]):\n",
    "            y = yprime\n",
    "        del durrhoyer_qc\n",
    "    \n",
    "    return (y, callstooracle, counts)"
   ]
  },
  {
   "cell_type": "code",
   "execution_count": 44,
   "metadata": {},
   "outputs": [
    {
     "name": "stdout",
     "output_type": "stream",
     "text": [
      "Initial Guess: 20.\n",
      "Called Minimum Oracle with index 20. arr[x] = 40.\n",
      "Oracle says in a deep and mysterious voice: [2, 8, 9, 3, 7, 5, 0, 12, 19, 18, 17].\n",
      "Next Guess: 2.\n",
      "\n",
      "Called Minimum Oracle with index 2. arr[x] = 2.\n",
      "Oracle says in a deep and mysterious voice: [].\n",
      "The minimum index is 2 with value arr[x] of 2.\n",
      "The number of calls made to the minimum oracle is 2.\n"
     ]
    }
   ],
   "source": [
    "newn = 1 + math.floor(math.log2(n))\n",
    "(min_index, num_calls, final_count) = DurrHoyerAlgorithm(newn, n)\n",
    "print(\"The minimum index is \" + str(min_index) + \" with value arr[x] of \" + str(arr[min_index]) + \".\")\n",
    "print(\"The number of calls made to the minimum oracle is \" + str(num_calls) + \".\")"
   ]
  },
  {
   "cell_type": "markdown",
   "metadata": {},
   "source": [
    "### Personal Reflection\n",
    "As I implemented the whole notebook, I constantly had some doubts about the quantum algorithms, especially how they compared to classical algorithms. Below are some of my thoughts.\n",
    "\n",
    "1. I was initially confused at why the time complexity is $O(\\sqrt{N})$. I thought the time complexity was $O(log(N))$ instead, because it takes an expected $log(N)$ steps to reach the minimum index. My mistake was that I didn't take into account the time complexity for amplitude amplification, which was $O(\\sqrt{N})$. Hence, combined time complexity is $O(\\sqrt{N}log(N))$.\n",
    "\n",
    "2. I wondered to myself: Suppose I have a classical oracle that gives me all the indices. Then, by randomly picking one index and querying the oracle again, I would take an expected $O(log(N))$ steps to reach the minimum. So how does this quantum algorithm offer me superiority in complexity with the $\\sqrt{N}$ factor? I still haven't quite figured this out, but my thinking is that classically, such oracle would take at least $O(N)$ time complexity to query, while for quantum there exists a faster way if the database had already been converted to quantum.\n",
    "\n",
    "3. Currently, the complexity of creating the *MinimumOracle()* is $O(N)$ and cost of querying is $O(N)$. Is there a better complexity in the quantum realm?"
   ]
  },
  {
   "cell_type": "markdown",
   "metadata": {},
   "source": [
    "### References"
   ]
  },
  {
   "cell_type": "markdown",
   "metadata": {},
   "source": [
    "1. http://cds.cern.ch/record/408677/files/9911082.pdf"
   ]
  },
  {
   "cell_type": "code",
   "execution_count": null,
   "metadata": {},
   "outputs": [],
   "source": []
  }
 ],
 "metadata": {
  "kernelspec": {
   "display_name": "Python 3",
   "language": "python",
   "name": "python3"
  },
  "language_info": {
   "codemirror_mode": {
    "name": "ipython",
    "version": 3
   },
   "file_extension": ".py",
   "mimetype": "text/x-python",
   "name": "python",
   "nbconvert_exporter": "python",
   "pygments_lexer": "ipython3",
   "version": "3.7.3"
  }
 },
 "nbformat": 4,
 "nbformat_minor": 4
}
