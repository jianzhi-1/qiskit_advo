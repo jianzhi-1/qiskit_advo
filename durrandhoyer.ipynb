{
 "cells": [
  {
   "cell_type": "markdown",
   "metadata": {},
   "source": [
    "# Durr & Hoyer - Minima/Maxima Finding Algorithm\n"
   ]
  },
  {
   "cell_type": "markdown",
   "metadata": {},
   "source": [
    "Durr & Hoyer"
   ]
  },
  {
   "cell_type": "code",
   "execution_count": 1,
   "metadata": {},
   "outputs": [],
   "source": [
    "import matplotlib.pyplot as plt\n",
    "import numpy as np\n",
    "from math import pi\n",
    "import math\n",
    "import random\n",
    "%matplotlib inline\n",
    "%config InlineBackend.figure_format = 'svg'\n",
    "\n",
    "from qiskit import IBMQ, Aer, BasicAer, execute\n",
    "from qiskit.providers.ibmq import least_busy\n",
    "from qiskit import QuantumCircuit, ClassicalRegister, QuantumRegister, execute\n",
    "from qiskit.quantum_info import state_fidelity\n",
    "from qiskit.tools.visualization import circuit_drawer\n",
    "from qiskit.circuit.library.generalized_gates.mcmt import MCMT\n",
    "from qiskit.circuit.library.standard_gates.x import XGate, HGate\n",
    "from qiskit.circuit.library import ZGate\n",
    "from qiskit.visualization import plot_histogram"
   ]
  },
  {
   "cell_type": "markdown",
   "metadata": {},
   "source": [
    "The following array will be used throughout the notebook."
   ]
  },
  {
   "cell_type": "code",
   "execution_count": 2,
   "metadata": {},
   "outputs": [
    {
     "name": "stdout",
     "output_type": "stream",
     "text": [
      "The number of elements in the array is 24.\n"
     ]
    }
   ],
   "source": [
    "arr = [22, 42, 2, 7, 74, 11, 86, 10, 3, 6, 93, 90, 23, 89, 92, 203, 84, 33, 32, 31, 40, 49, 84, 92]\n",
    "n = len(arr)\n",
    "print(\"The number of elements in the array is \" + str(n) + \".\")"
   ]
  },
  {
   "cell_type": "code",
   "execution_count": 3,
   "metadata": {},
   "outputs": [],
   "source": [
    "pairedarr = []\n",
    "sortedind = []\n",
    "for i in range(len(arr)):\n",
    "    pairedarr.append((arr[i], i))\n",
    "pairedarr.sort()\n",
    "for i in range(len(pairedarr)):\n",
    "    sortedind.append(pairedarr[i][1])\n",
    "#print(sortedind)\n",
    "\n",
    "def f(x):\n",
    "    for i in range(len(sortedind)):\n",
    "        if (sortedind[i] == x):\n",
    "            return sortedind[:i]\n",
    "#print(f(0))"
   ]
  },
  {
   "cell_type": "markdown",
   "metadata": {},
   "source": [
    "### Oracles\n",
    "The following oracles (AndOracle, ControlledOnIntOracle) are useful to us in the implementation. "
   ]
  },
  {
   "cell_type": "code",
   "execution_count": 4,
   "metadata": {},
   "outputs": [],
   "source": [
    "#nn = size of given_circuit\n",
    "def AndOracle(given_circuit, nn, target_qubit):\n",
    "    given_circuit.barrier()\n",
    "    controlled_xgate = XGate().control(nn)\n",
    "    curlist = list(range(0, nn))\n",
    "    curlist.append(target_qubit)\n",
    "    given_circuit.append(controlled_xgate, curlist)\n",
    "    given_circuit.barrier()\n",
    "\n",
    "#nn = size of given_circuit excluding the target_qubit\n",
    "def ControlledOnIntOracle(given_circuit, nn, target_qubit, x, reverse=False):\n",
    "    \n",
    "    if (x != 0 and nn < int(math.floor(math.log2(x) + 1))):\n",
    "        print(\"Not enough qubits to do ControlledOnIntOracle\\n\")\n",
    "        return\n",
    "    \n",
    "    given_circuit.barrier()\n",
    "    xx = x\n",
    "    counter = 0\n",
    "    for i in range(nn):\n",
    "        if (xx%2 == 0):\n",
    "            given_circuit.x(counter)\n",
    "        xx = (xx - (xx%2))/2\n",
    "        counter = counter + 1\n",
    "    AndOracle(given_circuit, nn, target_qubit)\n",
    "    \n",
    "    xx = x\n",
    "    counter = 0\n",
    "    for i in range(nn):\n",
    "        if (xx%2 == 0):\n",
    "            given_circuit.x(counter)\n",
    "        xx = (xx - (xx%2))/2\n",
    "        counter = counter + 1\n",
    "    given_circuit.barrier()\n",
    "\n",
    "def DiffusionOperator(given_circuit, nn, name = \"DiffusionOperator\"):\n",
    "    \n",
    "    given_circuit.h(range(nn))\n",
    "    given_circuit.x(range(nn))\n",
    "    controlled_gate = ZGate().control(nn - 1)\n",
    "    given_circuit.append(controlled_gate, list(range(0, nn)))\n",
    "    given_circuit.x(range(nn))\n",
    "    given_circuit.h(range(nn))\n",
    "\n",
    "def GroverOracle(given_circuit, nn, indices_to_mark, name = 'GroverOracle'):\n",
    "    for i in indices_to_mark:\n",
    "        ControlledOnIntOracle(given_circuit, nn, nn, i)\n",
    "\n",
    "def GroverAlgorithm(given_circuit, nn, indices_of_marked_elements):\n",
    "    \n",
    "    # Determine r\n",
    "    r = int(np.floor(np.pi/4*np.sqrt(2**nn/len(indices_of_marked_elements))))\n",
    "    print(f'{nn} qubits, basis states {indices_of_marked_elements} marked, {r} rounds')\n",
    "    \n",
    "    # step 1: apply Hadamard gates on all qubits\n",
    "    given_circuit.h(range(nn))\n",
    "    \n",
    "    # step 2: apply r rounds of the phase oracle and the diffuser\n",
    "    for _ in range(r):\n",
    "        GroverOracle(given_circuit, nn, indices_of_marked_elements)\n",
    "        DiffusionOperator(given_circuit, nn)\n",
    "        #qc.append(phase_oracle(nn, indices_of_marked_elements), range(n))\n",
    "        #qc.append(diffuser(nn), range(nn))\n",
    "        \n",
    "    # step 3: measure all qubits\n",
    "    given_circuit.measure(range(nn), range(nn))"
   ]
  },
  {
   "cell_type": "markdown",
   "metadata": {},
   "source": [
    "## Minimum Oracle"
   ]
  },
  {
   "cell_type": "markdown",
   "metadata": {},
   "source": [
    "Now, we need to implement the minimum oracle.\n",
    "\n",
    "That is, an oracle such that given i, returns a superposition of all indices j such that arr[j] < arr[i].\n",
    "\n",
    "The creation of such an oracle shown here is O(n^2). No choice.\n",
    "\n",
    "However, the essence of this algorithm does not lie in the creation of the algorithm, more of whether it exists or not."
   ]
  },
  {
   "cell_type": "code",
   "execution_count": 5,
   "metadata": {},
   "outputs": [],
   "source": [
    "def MinimumOracle(given_circuit, nn, target_qubit, x, reverse=False, name = \"MinimumOracle\"):\n",
    "    print(\"Called Minimum Oracle with index \" + str(x) + \". arr[x] = \" + str(arr[x]) + \".\")\n",
    "    print(\"Corresponding oracle gives \" + str(f(x)))\n",
    "    if (len(f(x)) == 0):\n",
    "        return False\n",
    "    GroverAlgorithm(given_circuit, nn, f(x))\n",
    "    return True"
   ]
  },
  {
   "cell_type": "code",
   "execution_count": 6,
   "metadata": {},
   "outputs": [],
   "source": [
    "simulator = Aer.get_backend('qasm_simulator')\n",
    "\n",
    "def converttoint(s):\n",
    "    ans = 0\n",
    "    for i in range(len(s)):\n",
    "        ans = ans + (2**i)*int(s[len(s) - i - 1])\n",
    "    return ans\n",
    "\n",
    "\n",
    "#nn is the number of qubits, excluding the ancilla\n",
    "#x is the number of items in the array\n",
    "def DurrHoyerAlgorithm(nn, x):\n",
    "    \n",
    "    callstooracle = 0\n",
    "    \n",
    "    #Step 1: Generates a random index\n",
    "    y = random.randint(0, x - 1)\n",
    "    done = True\n",
    "    \n",
    "    while (done == True):\n",
    "        durrhoyer_q = QuantumRegister(nn + 1)\n",
    "        durrhoyer_c = ClassicalRegister(nn)\n",
    "        durrhoyer_qc = QuantumCircuit(durrhoyer_q, durrhoyer_c, name = \"DurrHoyer Circuit\")\n",
    "\n",
    "        #Step 2: apply Hadamard gate to all\n",
    "        #durrhoyer_qc.h(range(nn))\n",
    "\n",
    "        #Step 3: call the oracle\n",
    "        done = MinimumOracle(durrhoyer_qc, nn, nn, y)\n",
    "        callstooracle = callstooracle + 1\n",
    "        if (done == False):\n",
    "            return (y, callstooracle, counts)\n",
    "        durrhoyer_qc.measure(range(nn), range(nn))\n",
    "        counts = execute(durrhoyer_qc, simulator, shots = 200).result().get_counts(durrhoyer_qc)\n",
    "        sortedcounts = {k: v for k, v in sorted(counts.items(), key=lambda item: item[1])}\n",
    "        print(sortedcounts)\n",
    "        print(len(sortedcounts))\n",
    "        print(list(sortedcounts.keys())[-1])\n",
    "        curlist = list(sortedcounts.keys())\n",
    "        yprime = 0\n",
    "        for i in range(len(curlist)):\n",
    "            if (converttoint(curlist[-1 - i]) >= x):\n",
    "                continue\n",
    "            yprime = converttoint(curlist[-1-i])\n",
    "            break\n",
    "    \n",
    "        print(yprime)\n",
    "\n",
    "        if (arr[yprime] < arr[y]):\n",
    "            y = yprime\n",
    "        del durrhoyer_qc\n",
    "    \n",
    "    return (y, callstooracle, counts)"
   ]
  },
  {
   "cell_type": "code",
   "execution_count": 7,
   "metadata": {},
   "outputs": [
    {
     "name": "stdout",
     "output_type": "stream",
     "text": [
      "Called Minimum Oracle with index 1. arr[x] = 42.\n",
      "Corresponding oracle gives [2, 8, 9, 3, 7, 5, 0, 12, 19, 18, 17, 20]\n",
      "5 qubits, basis states [2, 8, 9, 3, 7, 5, 0, 12, 19, 18, 17, 20] marked, 1 rounds\n",
      "{'11100': 1, '00100': 2, '10101': 3, '10111': 3, '10001': 3, '01010': 3, '10110': 3, '11010': 3, '11000': 4, '00111': 4, '01111': 4, '11011': 4, '11111': 5, '00001': 5, '00110': 5, '01110': 5, '00010': 5, '11101': 5, '01011': 6, '01101': 6, '10000': 7, '11001': 7, '10010': 7, '11110': 8, '01001': 9, '00000': 9, '10100': 10, '10011': 10, '00011': 11, '00101': 12, '01100': 13, '01000': 18}\n",
      "32\n",
      "01000\n",
      "8\n",
      "Called Minimum Oracle with index 8. arr[x] = 3.\n",
      "Corresponding oracle gives [2]\n",
      "5 qubits, basis states [2] marked, 4 rounds\n",
      "{'01001': 1, '10011': 1, '00001': 2, '10101': 2, '01010': 2, '00101': 2, '11000': 2, '11100': 2, '01100': 2, '00000': 2, '01101': 2, '01111': 2, '11011': 2, '00110': 3, '10111': 3, '10110': 3, '11010': 3, '11111': 4, '00100': 4, '01110': 4, '11101': 4, '11110': 5, '10100': 5, '10000': 5, '10001': 5, '11001': 5, '01000': 5, '00111': 5, '00011': 6, '01011': 7, '10010': 7, '00010': 93}\n",
      "32\n",
      "00010\n",
      "2\n",
      "Called Minimum Oracle with index 2. arr[x] = 2.\n",
      "Corresponding oracle gives []\n",
      "The minimum index is 2with value arr[x] of 2\n"
     ]
    }
   ],
   "source": [
    "newn = 1 + math.floor(math.log2(n))\n",
    "(min_index, num_calls, final_count) = DurrHoyerAlgorithm(newn, n)\n",
    "plot_histogram(final_count)\n",
    "print(\"The minimum index is \" + str(min_index) + \" with value arr[x] of \" + str(arr[min_index]) + \".\")\n",
    "print(\"The number of calls made to the minimum oracle is \" + str(num_calls) + \".\")"
   ]
  },
  {
   "cell_type": "markdown",
   "metadata": {},
   "source": [
    "### References"
   ]
  },
  {
   "cell_type": "markdown",
   "metadata": {},
   "source": [
    "1. http://cds.cern.ch/record/408677/files/9911082.pdf"
   ]
  },
  {
   "cell_type": "code",
   "execution_count": null,
   "metadata": {},
   "outputs": [],
   "source": []
  }
 ],
 "metadata": {
  "kernelspec": {
   "display_name": "Python 3",
   "language": "python",
   "name": "python3"
  },
  "language_info": {
   "codemirror_mode": {
    "name": "ipython",
    "version": 3
   },
   "file_extension": ".py",
   "mimetype": "text/x-python",
   "name": "python",
   "nbconvert_exporter": "python",
   "pygments_lexer": "ipython3",
   "version": "3.7.3"
  }
 },
 "nbformat": 4,
 "nbformat_minor": 4
}
